{
 "cells": [
  {
   "cell_type": "markdown",
   "metadata": {},
   "source": [
    "# MA 544: Programming Assignment - 2\n",
    "---\n"
   ]
  },
  {
   "cell_type": "code",
   "execution_count": 3,
   "metadata": {},
   "outputs": [],
   "source": [
    "# Import required packages\n",
    "import numpy as np\n",
    "import matplotlib.pyplot as plt\n",
    "import networkx as nx\n",
    "from scipy.sparse import coo_matrix, csr_matrix\n",
    "import gzip\n",
    "import scipy.sparse as sp\n",
    "import time\n",
    "from sympy import primerange\n",
    "import pandas as pd"
   ]
  },
  {
   "cell_type": "markdown",
   "metadata": {
    "jp-MarkdownHeadingCollapsed": true
   },
   "source": [
    "### Question 1: Visualization of Sparse Matrices\n",
    "---\n",
    "Create the sparse COO representation of the adjacency matrix of the following graph. One need not find the 2-dimensional representation for doing so. Find its CSR representation using appropriate Python function. Visualize this matrix by using spy() function. Refer to the notebook on sparse Matrices and check [the SciPy documentation](https://docs.scipy.org/doc/scipy/reference/generated/scipy.sparse.coo_matrix.html#scipy.sparse.coo_matrix). \n",
    "\n",
    "<img src=\"https://in.mathworks.com/help/examples/matlab/win64/buckydem_02.png\" width=\"50%\" />\n",
    "\n",
    "[Image source: Mathworks](https://in.mathworks.com/help/examples/matlab/win64/buckydem_02.png)"
   ]
  },
  {
   "cell_type": "code",
   "execution_count": 4,
   "metadata": {},
   "outputs": [
    {
     "data": {
      "image/png": "[encoded data removed]",
      "text/plain": [
       "<Figure size 600x600 with 1 Axes>"
      ]
     },
     "metadata": {},
     "output_type": "display_data"
    }
   ],
   "source": [
    "# Define the graph from the given image (assumed structure)\n",
    "edges = [\n",
    "    (1,2), (1,5), (1,6), (2,11), (2,3), (3,16), (3,4), (4,21), (4,5), (5,26), (6,7), (6,10),\n",
    "    (7,8), (7,30), (8,9), (8,42), (9,10), (9,38), (10,12), (11,12), (11,15), (12,13), \n",
    "    (13,14), (13,37), (14,15), (14,33), (15,17), (16,20), (16,17), (17,18), (18,19), (19,20),\n",
    "    (19,53), (20,22), (21,22), (21,25), (22,23), (23,24), (23,52), (24,25), (24,48), (25,27), \n",
    "    (26,27), (26,30), (27,28), (28,29), (28,47), (29,30), (29,43), (31,32), (31,35), (31,54),\n",
    "    (32,33), (33,34), (34,35), (34,36), (35,56), (36,37), (36,40), (37,38), (38,39), (39,40),\n",
    "    (39,41), (40,57), (46,47), (46,50), (47,48), (48,49), (49,50), (49, 51), (50,59), (51,51),\n",
    "    (51,55), (52,53), (53,54), (54,55), (55,60), (56,57), (56,60), (57,58), (58,59), (59,60)\n",
    "]\n",
    "# Convert edges to zero-based index\n",
    "edges = [(u-1, v-1) for u, v in edges]\n",
    "\n",
    "# Create adjacency matrix in COO format\n",
    "num_nodes = 60\n",
    "row, col = zip(*edges)\n",
    "data = np.ones(len(edges))\n",
    "\n",
    "adj_coo = coo_matrix((data, (row, col)), shape=(num_nodes, num_nodes))\n",
    "\n",
    "# Convert COO to CSR format\n",
    "adj_csr = adj_coo.tocsr()\n",
    "\n",
    "# Visualize the matrix using spy()\n",
    "plt.figure(figsize=(6,6))\n",
    "plt.spy(adj_csr, markersize=2)\n",
    "plt.title(\"Spy Plot of the CSR Adjacency Matrix\")\n",
    "plt.show()\n"
   ]
  },
  {
   "cell_type": "markdown",
   "metadata": {},
   "source": [
    "Question 2: Page Ranking\n",
    "---\n",
    "Visit the SNAP networks database to find the [Berkley-Stanford Webgraph from 2002](https://snap.stanford.edu/data/web-BerkStan.html). This dataset gives the hyperlink structure of $685230$ webpages having a total of $7600595$ hyperlinks. \n",
    "\n",
    "A. Download the datafile and read the data to create a link matrix $Q$ in the DoK format. \n",
    "\n",
    "B. Use the optimized page-ranking algorithm with damping factor values $\\alpha=0.85$ and $\\alpha=0.95$ to find the page-ranking vector $\\mathbf{r}$ while maintaining the same tolerance level for convergence. Report on the time it takes to perform these calculations. \n",
    "\n",
    "C. Find the indices of the $10$ highest ranking web-pages in decreasing order for the two runs. \n",
    "\n",
    "D. Now use a personalization vector that gives equal non-zero probability to pages with prime indices otherwise zero. Find the indices of the $10$ highest ranking web-pages. Use  only $\\alpha=0.85$ in this case."
   ]
  },
  {
   "cell_type": "code",
   "execution_count": 7,
   "metadata": {},
   "outputs": [
    {
     "name": "stdout",
     "output_type": "stream",
     "text": [
      "   Top 10 Pages (α=0.85)  Top 10 Pages (α=0.95)  \\\n",
      "0                 630893                 630894   \n",
      "1                 630891                 630900   \n",
      "2                 585338                 630891   \n",
      "3                 584351                 584351   \n",
      "4                 585329                 585329   \n",
      "5                 585330                 585330   \n",
      "6                 585344                 585331   \n",
      "7                 585331                 585332   \n",
      "8                 630892                 585334   \n",
      "9                 585332                 585335   \n",
      "\n",
      "   Top 10 Pages (Personalized, α=0.85)  Time Taken (α=0.95)  \n",
      "0                               559561             4.087448  \n",
      "1                               395027                  NaN  \n",
      "2                               559343                  NaN  \n",
      "3                               395119                  NaN  \n",
      "4                               130267                  NaN  \n",
      "5                               489389                  NaN  \n",
      "6                               130253                  NaN  \n",
      "7                               489239                  NaN  \n",
      "8                               286367                  NaN  \n",
      "9                               286369                  NaN  \n"
     ]
    }
   ],
   "source": [
    "import gzip\n",
    "import numpy as np\n",
    "import scipy.sparse as sp\n",
    "import time\n",
    "from sympy import primerange\n",
    "import pandas as pd\n",
    "\n",
    "\n",
    "# Step 1: Load web-BerkStan.txt.gz and Construct Adjacency Matrix\n",
    "edge_list = []\n",
    "\n",
    "with gzip.open(\"web-BerkStan.txt.gz\", \"rt\", encoding=\"utf-8\") as f:\n",
    "    for line in f:\n",
    "        if line.startswith(\"#\"):  # Ignore comment lines\n",
    "            continue\n",
    "        src, dst = map(int, line.strip().split())  # Extract source and destination\n",
    "        edge_list.append((src, dst))\n",
    "\n",
    "# Convert to numpy array for easy processing\n",
    "edge_list = np.array(edge_list)\n",
    "\n",
    "# Get number of nodes dynamically (highest index in the dataset)\n",
    "num_nodes = edge_list.max() + 1  # Assuming 0-based indexing\n",
    "\n",
    "# Create adjacency matrix in DoK format\n",
    "adj_matrix_dok = sp.dok_matrix((num_nodes, num_nodes), dtype=np.float32)\n",
    "for src, dst in edge_list:\n",
    "    adj_matrix_dok[src, dst] = 1  # Directed graph (hyperlinks)\n",
    "\n",
    "# Convert to CSR format for fast computation\n",
    "adj_matrix_csr = adj_matrix_dok.tocsr()\n",
    "\n",
    "# Step 2: Compute PageRank using Power Iteration\n",
    "def pagerank(adj_matrix, alpha=0.85, tol=1e-6, max_iter=100):\n",
    "    n = adj_matrix.shape[0]\n",
    "    \n",
    "    # Convert adjacency matrix to stochastic matrix (column-normalized)\n",
    "    out_degree = np.array(adj_matrix.sum(axis=0)).flatten()\n",
    "    out_degree[out_degree == 0] = 1  # Avoid division by zero\n",
    "    stochastic_matrix = adj_matrix.multiply(1 / out_degree).T\n",
    "    \n",
    "    # Initialize rank vector\n",
    "    r = np.ones(n) / n  # Equal probability initially\n",
    "    teleport = np.ones(n) / n  # Uniform teleportation\n",
    "    \n",
    "    # Power iteration\n",
    "    start_time = time.time()\n",
    "    for _ in range(max_iter):\n",
    "        r_new = alpha * (stochastic_matrix @ r) + (1 - alpha) * teleport\n",
    "        if np.linalg.norm(r_new - r, ord=1) < tol:\n",
    "            break\n",
    "        r = r_new\n",
    "    elapsed_time = time.time() - start_time\n",
    "    \n",
    "    return r, elapsed_time\n",
    "\n",
    "# Compute PageRank for alpha = 0.85\n",
    "r_85, time_85 = pagerank(adj_matrix_csr, alpha=0.85)\n",
    "\n",
    "# Compute PageRank for alpha = 0.95\n",
    "r_95, time_95 = pagerank(adj_matrix_csr, alpha=0.95)\n",
    "\n",
    "# Step 3: Find Top 10 Highest-Ranked Pages\n",
    "top_10_85 = np.argsort(-r_85)[:10]  # Descending order\n",
    "top_10_95 = np.argsort(-r_95)[:10]\n",
    "\n",
    "# Step 4: Personalized PageRank with Prime Indices\n",
    "prime_indices = list(primerange(1, num_nodes))  # Find prime indices\n",
    "personalization_vector = np.zeros(num_nodes)\n",
    "personalization_vector[prime_indices] = 1 / len(prime_indices)  # Equal probability for primes\n",
    "\n",
    "def personalized_pagerank(adj_matrix, alpha=0.85, personalization=None, tol=1e-6, max_iter=100):\n",
    "    n = adj_matrix.shape[0]\n",
    "    out_degree = np.array(adj_matrix.sum(axis=0)).flatten()\n",
    "    out_degree[out_degree == 0] = 1\n",
    "    stochastic_matrix = adj_matrix.multiply(1 / out_degree).T\n",
    "    \n",
    "    # Initialize rank vector\n",
    "    r = np.ones(n) / n\n",
    "    teleport = personalization if personalization is not None else np.ones(n) / n\n",
    "\n",
    "    # Power iteration\n",
    "    for _ in range(max_iter):\n",
    "        r_new = alpha * (stochastic_matrix @ r) + (1 - alpha) * teleport\n",
    "        if np.linalg.norm(r_new - r, ord=1) < tol:\n",
    "            break\n",
    "        r = r_new\n",
    "    \n",
    "    return r\n",
    "\n",
    "# Compute personalized PageRank\n",
    "r_personalized = personalized_pagerank(adj_matrix_csr, alpha=0.85, personalization=personalization_vector)\n",
    "top_10_personalized = np.argsort(-r_personalized)[:10]\n",
    "\n",
    "# Display results\n",
    "results = {\n",
    "    \"Top 10 Pages (α=0.85)\": top_10_85,\n",
    "    \"Top 10 Pages (α=0.95)\": top_10_95,\n",
    "    \"Top 10 Pages (Personalized, α=0.85)\": top_10_personalized,\n",
    "    \"Time Taken (α=0.95)\": time_95\n",
    "}\n",
    "\n",
    "df_results = pd.DataFrame(dict([(key, pd.Series(value)) for key, value in results.items()]))\n",
    "print(df_results)"
   ]
  },
  {
   "cell_type": "markdown",
   "metadata": {},
   "source": [
    "### Question 3: Clustering\n",
    "---\n",
    "Pick up a dataset of your choice for clustering ([UCI dataset](https://archive.ics.uci.edu/datasets)). Apply various clustering algorithms (including at least k-means and spectral clustering) to this dataset and explain your observations by using insightful plots or other some other metrics. Compare these algorithms based on some metric such as silhouette score, adjusted rand index etc.\n",
    "\n",
    "- Read [this blog](https://machinelearningmastery.com/clustering-algorithms-with-python/) for some help.\n",
    "- You can also refer to the codes and discusion [for this Kaggle dataset](https://www.kaggle.com/datasets/vjchoudhary7/customer-segmentation-tutorial-in-python/data)."
   ]
  }
 ],
 "metadata": {
  "kernelspec": {
   "display_name": "Python [conda env:base] *",
   "language": "python",
   "name": "conda-base-py"
  },
  "language_info": {
   "codemirror_mode": {
    "name": "ipython",
    "version": 3
   },
   "file_extension": ".py",
   "mimetype": "text/x-python",
   "name": "python",
   "nbconvert_exporter": "python",
   "pygments_lexer": "ipython3",
   "version": "3.12.2"
  }
 },
 "nbformat": 4,
 "nbformat_minor": 4
}
